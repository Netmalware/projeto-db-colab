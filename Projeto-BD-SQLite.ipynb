{
  "nbformat": 4,
  "nbformat_minor": 0,
  "metadata": {
    "colab": {
      "provenance": [],
      "authorship_tag": "ABX9TyMtghmBt8KRQUCl5E2JNeSS",
      "include_colab_link": true
    },
    "kernelspec": {
      "name": "python3",
      "display_name": "Python 3"
    },
    "language_info": {
      "name": "python"
    }
  },
  "cells": [
    {
      "cell_type": "markdown",
      "metadata": {
        "id": "view-in-github",
        "colab_type": "text"
      },
      "source": [
        "<a href=\"https://colab.research.google.com/github/Netmalware/projeto-db-colab/blob/main/Projeto-BD-SQLite.ipynb\" target=\"_parent\"><img src=\"https://colab.research.google.com/assets/colab-badge.svg\" alt=\"Open In Colab\"/></a>"
      ]
    },
    {
      "cell_type": "code",
      "execution_count": 1,
      "metadata": {
        "colab": {
          "base_uri": "https://localhost:8080/"
        },
        "id": "zMOITbLOe8Uo",
        "outputId": "af720426-bfe9-408b-9182-ec1a65eacfdb"
      },
      "outputs": [
        {
          "output_type": "stream",
          "name": "stdout",
          "text": [
            "(1, 'Maria', 'Caneta', 10)\n",
            "(2, 'João', 'Caderno', 2)\n"
          ]
        }
      ],
      "source": [
        "import sqlite3\n",
        "\n",
        "# Conectar (em memória ou arquivo .db)\n",
        "conn = sqlite3.connect(':memory:')\n",
        "cursor = conn.cursor()\n",
        "\n",
        "# Ativar chaves estrangeiras\n",
        "cursor.execute(\"PRAGMA foreign_keys = ON;\")\n",
        "\n",
        "cursor.execute('''\n",
        "CREATE TABLE IF NOT EXISTS pessoas (\n",
        "  id INTEGER PRIMARY KEY AUTOINCREMENT,\n",
        "  nome TEXT NOT NULL,\n",
        "  idade INTEGER\n",
        ");\n",
        "''')\n",
        "\n",
        "cursor.execute('''\n",
        "CREATE TABLE IF NOT EXISTS produtos (\n",
        "  id INTEGER PRIMARY KEY AUTOINCREMENT,\n",
        "  descricao TEXT NOT NULL,\n",
        "  estoque INTEGER,\n",
        "  preco REAL\n",
        ");\n",
        "''')\n",
        "\n",
        "cursor.execute('''\n",
        "CREATE TABLE IF NOT EXISTS vendas (\n",
        "  id_venda INTEGER PRIMARY KEY AUTOINCREMENT,\n",
        "  id_pessoa INTEGER,\n",
        "  id_produto INTEGER,\n",
        "  quantidade INTEGER,\n",
        "  FOREIGN KEY (id_pessoa) REFERENCES pessoas(id),\n",
        "  FOREIGN KEY (id_produto) REFERENCES produtos(id)\n",
        ");\n",
        "''')\n",
        "\n",
        "conn.commit()\n",
        "\n",
        "cursor.execute(\"INSERT INTO pessoas (nome, idade) VALUES ('Maria', 30);\")\n",
        "cursor.execute(\"INSERT INTO pessoas (nome, idade) VALUES ('João', 25);\")\n",
        "cursor.execute(\"INSERT INTO pessoas (nome, idade) VALUES ('Ana', 40);\")\n",
        "\n",
        "cursor.execute(\"INSERT INTO produtos (descricao, estoque, preco) VALUES ('Caneta', 100, 1.50);\")\n",
        "cursor.execute(\"INSERT INTO produtos (descricao, estoque, preco) VALUES ('Caderno', 50, 6.50);\")\n",
        "\n",
        "conn.commit()\n",
        "\n",
        "cursor.execute(\"INSERT INTO vendas (id_pessoa, id_produto, quantidade) VALUES (1, 1, 10);\")\n",
        "cursor.execute(\"INSERT INTO vendas (id_pessoa, id_produto, quantidade) VALUES (2, 2, 2);\")\n",
        "\n",
        "conn.commit()\n",
        "\n",
        "cursor.execute('''\n",
        "SELECT v.id_venda, p.nome, pr.descricao, v.quantidade\n",
        "FROM vendas v\n",
        "JOIN pessoas p ON v.id_pessoa = p.id\n",
        "JOIN produtos pr ON v.id_produto = pr.id;\n",
        "''')\n",
        "\n",
        "resultados = cursor.fetchall()\n",
        "for linha in resultados:\n",
        "    print(linha)\n",
        "\n",
        "conn.close()\n",
        "\n"
      ]
    }
  ]
}